{
 "cells": [
  {
   "cell_type": "markdown",
   "metadata": {},
   "source": [
    "# What is `uarray`?\n",
    "At its core, `uarray` is a dispatch and back-end mechanism specifically geared towards array computing. Combined with its sister packages `unumpy` (and others currently in development), it allows NumPy functions to be overridden by their counterparts in other libraries (such as Dask, Xnd, and so on) while using the exact same code everywhere. Backends can be changed using just a context manager.\n",
    "\n",
    "Please note that only a small subset of the NumPy API is implemented, and not every backend implements every API method."
   ]
  },
  {
   "cell_type": "code",
   "execution_count": 1,
   "metadata": {},
   "outputs": [],
   "source": [
    "import uarray as ua\n",
    "import unumpy as np  # Note the changed import statement"
   ]
  },
  {
   "cell_type": "code",
   "execution_count": 2,
   "metadata": {},
   "outputs": [],
   "source": [
    "import unumpy.xnd_backend as be_xnd\n",
    "import unumpy.numpy_backend as be_np\n",
    "import unumpy.dask_backend as be_da\n",
    "\n",
    "ua.set_global_backend(be_np)\n",
    "ua.register_backend(be_da)\n",
    "ua.register_backend(be_xnd)\n"
   ]
  },
  {
   "cell_type": "markdown",
   "metadata": {},
   "source": [
    "## Computing on different back-ends\n",
    "`unumpy` allows you to compute with different back-ends. Here are examples of creating arrays via `unumpy` (something not currently possible with NEP-18, the `__array_function__` protocol)."
   ]
  },
  {
   "cell_type": "code",
   "execution_count": 3,
   "metadata": {},
   "outputs": [
    {
     "name": "stdout",
     "output_type": "stream",
     "text": [
      "With the XND backend set, the type of the array is: <class 'xnd.array'>\n",
      "With NumPy backend set, the type of the array is: <class 'numpy.ndarray'>\n",
      "With Dask Backend set, the type of the array is: <class 'dask.array.core.Array'>\n"
     ]
    }
   ],
   "source": [
    "my_list = [0, 1, 2, 3, 4]\n",
    "\n",
    "with ua.set_backend(be_xnd):\n",
    "    x = np.asarray(my_list)\n",
    "print('With the XND backend set, the type of the array is: {}'.format(type(x)))\n",
    "\n",
    "with ua.set_backend(be_np):\n",
    "    y = np.asarray(my_list)\n",
    "print('With NumPy backend set, the type of the array is: {}'.format(type(y)))\n",
    "\n",
    "with ua.set_backend(be_da):\n",
    "    z = np.asarray(my_list)\n",
    "print('With Dask Backend set, the type of the array is: {}'.format(type(z)))"
   ]
  },
  {
   "cell_type": "markdown",
   "metadata": {},
   "source": [
    "## Computing based on the type of array passed in\n",
    "`unumpy` allows you to compute on arrays based on the type, in a fashion similar to NEP-18."
   ]
  },
  {
   "cell_type": "code",
   "execution_count": 4,
   "metadata": {},
   "outputs": [
    {
     "name": "stdout",
     "output_type": "stream",
     "text": [
      "With np.sum(xnd_array) we get: <class 'xnd.array'>\n",
      "With np.sum(torch_array) we get: <class 'numpy.float64'>\n",
      "With np.sum(numpy_array) we get: <class 'dask.array.core.Array'>\n"
     ]
    }
   ],
   "source": [
    "print('With np.sum(xnd_array) we get: {}'.format(type(np.sum(x))))\n",
    "print('With np.sum(torch_array) we get: {}'.format(type(np.sum(y))))\n",
    "print('With np.sum(numpy_array) we get: {}'.format(type(np.sum(z))))"
   ]
  },
  {
   "cell_type": "markdown",
   "metadata": {},
   "source": [
    "## Forcing a particular backend\n",
    "You can even force a particular back-end, if you want to pipe all possible computations through that back-end."
   ]
  },
  {
   "cell_type": "code",
   "execution_count": 5,
   "metadata": {},
   "outputs": [
    {
     "name": "stdout",
     "output_type": "stream",
     "text": [
      "Using the Dask backend with coerce=True on a NumPy array: <class 'dask.array.core.Array'>\n"
     ]
    }
   ],
   "source": [
    "with ua.set_backend(be_da, coerce=True):\n",
    "    print('Using the Dask backend with coerce=True on a NumPy array: {}'.format(type(np.sum(z))))"
   ]
  }
 ],
 "metadata": {
  "kernelspec": {
   "display_name": "Python 3",
   "language": "python",
   "name": "python3"
  },
  "language_info": {
   "codemirror_mode": {
    "name": "ipython",
    "version": 3
   },
   "file_extension": ".py",
   "mimetype": "text/x-python",
   "name": "python",
   "nbconvert_exporter": "python",
   "pygments_lexer": "ipython3",
   "version": "3.7.4"
  }
 },
 "nbformat": 4,
 "nbformat_minor": 4
}
